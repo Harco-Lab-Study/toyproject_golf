{
 "cells": [
  {
   "cell_type": "code",
   "execution_count": 48,
   "metadata": {},
   "outputs": [],
   "source": [
    "import numpy as np\n",
    "import json\n",
    "import os\n",
    "import matplotlib.pyplot as plt\n"
   ]
  },
  {
   "cell_type": "code",
   "execution_count": 49,
   "metadata": {},
   "outputs": [],
   "source": [
    "def load_json(json_path):\n",
    "    with open(json_path, 'r') as file:\n",
    "        data = json.load(file)\n",
    "    return data\n",
    "\n",
    "def normalization(keypoints):\n",
    "    # 만약 2차원이면 3차원으로 만들어서 처리한후, 다시 2차원으로 만들어준다.\n",
    "    input_shape = keypoints.shape\n",
    "    if len(input_shape) == 2:\n",
    "        keypoints = keypoints.reshape(-1,17,2)\n",
    "    center_head_y = keypoints[:,0,1]\n",
    "    center_foot_y = (keypoints[:,15,1] + keypoints[:,16,1])/2\n",
    "    center_foot_00 = (keypoints[:,15,:] + keypoints[:,16,:])/2\n",
    "\n",
    "\n",
    "\n",
    "    # 1. 15,16번점의 중점을 (0,0)으로 만들어준다.\n",
    "    keypoints = keypoints - center_foot_00.reshape(-1,1,2)\n",
    "\n",
    "    # 2. 0번점의 Y축 값과 15,16의 Y축값의 길이를 0과 1로 만들어준다.\n",
    "    heidht = center_head_y - center_foot_y\n",
    "    keypoints= keypoints/ heidht.reshape(-1,1,1)\n",
    "\n",
    "    if len(input_shape) == 2:\n",
    "        keypoints = keypoints.reshape(17,2)\n",
    "    return keypoints\n",
    "\n",
    "\n",
    "def body_drawing(ax, normalized_keypoints):\n",
    "    # Head 0 ~ 4\n",
    "    ax.scatter(normalized_keypoints[0, 0], normalized_keypoints[0, 1], s=10, color='red')\n",
    "    ax.scatter(normalized_keypoints[1, 0], normalized_keypoints[1, 1], s=10, color='red')\n",
    "    ax.scatter(normalized_keypoints[2, 0], normalized_keypoints[2, 1], s=10, color='red')\n",
    "    ax.scatter(normalized_keypoints[3, 0], normalized_keypoints[3, 1], s=10, color='red')\n",
    "    ax.scatter(normalized_keypoints[4, 0], normalized_keypoints[4, 1], s=10, color='red')\n",
    "\n",
    "    # Body\n",
    "    ax.plot(normalized_keypoints[5, 0], normalized_keypoints[5, 1], 'o', markersize=3, color='red')\n",
    "    ax.plot(normalized_keypoints[6, 0], normalized_keypoints[6, 1], 'o', markersize=3, color='red')\n",
    "    ax.plot(normalized_keypoints[12, 0], normalized_keypoints[12, 1], 'o', markersize=3, color='red')\n",
    "    ax.plot(normalized_keypoints[11, 0], normalized_keypoints[11, 1], 'o', markersize=3, color='red')\n",
    "\n",
    "    # Left Arm\n",
    "    ax.plot(normalized_keypoints[5, 0], normalized_keypoints[5, 1], 'o', markersize=3, color='red')\n",
    "    ax.plot(normalized_keypoints[9, 0], normalized_keypoints[9, 1], 'o', markersize=3, color='red')\n",
    "    ax.plot(normalized_keypoints[7, 0], normalized_keypoints[7, 1], 'o', markersize=3, color='red')\n",
    "\n",
    "    # Right Arm\n",
    "    ax.plot(normalized_keypoints[6, 0], normalized_keypoints[6, 1], 'o', markersize=3, color='red')\n",
    "    ax.plot(normalized_keypoints[10, 0], normalized_keypoints[10, 1], 'o', markersize=3, color='red')\n",
    "    ax.plot(normalized_keypoints[8, 0], normalized_keypoints[8, 1], 'o', markersize=3, color='red')\n",
    "\n",
    "    # Left Leg\n",
    "    ax.plot(normalized_keypoints[11, 0], normalized_keypoints[11, 1], 'o', markersize=3, color='red')\n",
    "    ax.plot(normalized_keypoints[13, 0], normalized_keypoints[13, 1], 'o', markersize=3, color='red')\n",
    "    ax.plot(normalized_keypoints[15, 0], normalized_keypoints[15, 1], 'o', markersize=3, color='red')\n",
    "\n",
    "    # Right Leg\n",
    "    ax.plot(normalized_keypoints[12, 0], normalized_keypoints[12, 1], 'o', markersize=3, color='red')\n",
    "    ax.plot(normalized_keypoints[14, 0], normalized_keypoints[14, 1], 'o', markersize=3, color='red')\n",
    "    ax.plot(normalized_keypoints[16, 0], normalized_keypoints[16, 1], 'o', markersize=3, color='red')"
   ]
  },
  {
   "cell_type": "code",
   "execution_count": 50,
   "metadata": {},
   "outputs": [
    {
     "data": {
      "text/plain": [
       "[{'index': 0,\n",
       "  'label': 0,\n",
       "  'keypoints': [[351.24407958984375, 128.666748046875],\n",
       "   [373.31292724609375, 101.22535705566406],\n",
       "   [323.1353759765625, 101.34907531738281],\n",
       "   [399.4210205078125, 110.18563842773438],\n",
       "   [277.93255615234375, 113.03024291992188],\n",
       "   [448.6666564941406, 268.93450927734375],\n",
       "   [232.39208984375, 236.94345092773438],\n",
       "   [455.84661865234375, 458.5581970214844],\n",
       "   [153.25686645507812, 360.5213623046875],\n",
       "   [0.0, 0.0],\n",
       "   [86.49356079101562, 430.812255859375],\n",
       "   [0.0, 0.0],\n",
       "   [0.0, 0.0],\n",
       "   [0.0, 0.0],\n",
       "   [0.0, 0.0],\n",
       "   [0.0, 0.0],\n",
       "   [0.0, 0.0]]},\n",
       " {'index': 1,\n",
       "  'label': 0,\n",
       "  'keypoints': [[344.06890869140625, 136.17759704589844],\n",
       "   [366.37933349609375, 105.81387329101562],\n",
       "   [314.7633361816406, 107.81822204589844],\n",
       "   [394.4091796875, 108.90248107910156],\n",
       "   [270.8786926269531, 116.16706848144531],\n",
       "   [443.75946044921875, 266.2463684082031],\n",
       "   [235.61599731445312, 238.35733032226562],\n",
       "   [455.47503662109375, 455.1380920410156],\n",
       "   [161.54806518554688, 357.7267150878906],\n",
       "   [363.634765625, 480.0],\n",
       "   [89.32563781738281, 418.77587890625],\n",
       "   [0.0, 0.0],\n",
       "   [0.0, 0.0],\n",
       "   [0.0, 0.0],\n",
       "   [0.0, 0.0],\n",
       "   [0.0, 0.0],\n",
       "   [0.0, 0.0]]},\n",
       " {'index': 2,\n",
       "  'label': 0,\n",
       "  'keypoints': [[344.3519592285156, 135.38221740722656],\n",
       "   [366.528076171875, 105.367431640625],\n",
       "   [314.9308166503906, 106.97845458984375],\n",
       "   [394.8067626953125, 109.81446838378906],\n",
       "   [270.188232421875, 115.99966430664062],\n",
       "   [446.3384704589844, 269.19598388671875],\n",
       "   [229.29449462890625, 238.76214599609375],\n",
       "   [455.5812072753906, 457.5959167480469],\n",
       "   [153.55386352539062, 359.0884704589844],\n",
       "   [366.0032958984375, 480.0],\n",
       "   [93.07746887207031, 434.2232666015625],\n",
       "   [0.0, 0.0],\n",
       "   [0.0, 0.0],\n",
       "   [0.0, 0.0],\n",
       "   [0.0, 0.0],\n",
       "   [0.0, 0.0],\n",
       "   [0.0, 0.0]]},\n",
       " {'index': 3,\n",
       "  'label': 0,\n",
       "  'keypoints': [[343.3572082519531, 136.4768524169922],\n",
       "   [365.8988037109375, 106.02435302734375],\n",
       "   [313.9236755371094, 107.69734191894531],\n",
       "   [394.7762451171875, 109.66676330566406],\n",
       "   [269.8756103515625, 115.97212219238281],\n",
       "   [447.6910400390625, 269.5292663574219],\n",
       "   [228.31048583984375, 239.37326049804688],\n",
       "   [454.68048095703125, 458.2512512207031],\n",
       "   [155.0811767578125, 360.9965515136719],\n",
       "   [0.0, 0.0],\n",
       "   [96.03654479980469, 436.90887451171875],\n",
       "   [0.0, 0.0],\n",
       "   [0.0, 0.0],\n",
       "   [0.0, 0.0],\n",
       "   [0.0, 0.0],\n",
       "   [0.0, 0.0],\n",
       "   [0.0, 0.0]]},\n",
       " {'index': 4,\n",
       "  'label': 0,\n",
       "  'keypoints': [[343.14508056640625, 138.22618103027344],\n",
       "   [365.7969970703125, 107.32917785644531],\n",
       "   [313.87005615234375, 109.0252685546875],\n",
       "   [394.41510009765625, 109.51469421386719],\n",
       "   [270.31048583984375, 116.06947326660156],\n",
       "   [444.13525390625, 268.3224182128906],\n",
       "   [233.55508422851562, 239.1540069580078],\n",
       "   [454.38372802734375, 456.75921630859375],\n",
       "   [157.12860107421875, 358.2413330078125],\n",
       "   [364.1367492675781, 480.0],\n",
       "   [87.76698303222656, 424.0281677246094],\n",
       "   [0.0, 0.0],\n",
       "   [0.0, 0.0],\n",
       "   [0.0, 0.0],\n",
       "   [0.0, 0.0],\n",
       "   [0.0, 0.0],\n",
       "   [0.0, 0.0]]},\n",
       " {'index': 5,\n",
       "  'label': 0,\n",
       "  'keypoints': [[343.8101806640625, 136.73532104492188],\n",
       "   [366.08551025390625, 106.40855407714844],\n",
       "   [314.7076721191406, 108.27546691894531],\n",
       "   [394.00665283203125, 109.726806640625],\n",
       "   [270.9900207519531, 116.49345397949219],\n",
       "   [443.50146484375, 266.1260070800781],\n",
       "   [233.57069396972656, 239.1444091796875],\n",
       "   [455.6917724609375, 453.3042907714844],\n",
       "   [157.08737182617188, 359.3840637207031],\n",
       "   [368.7942810058594, 480.0],\n",
       "   [89.2889404296875, 421.3207702636719],\n",
       "   [0.0, 0.0],\n",
       "   [0.0, 0.0],\n",
       "   [0.0, 0.0],\n",
       "   [0.0, 0.0],\n",
       "   [0.0, 0.0],\n",
       "   [0.0, 0.0]]},\n",
       " {'index': 6,\n",
       "  'label': 0,\n",
       "  'keypoints': [[343.3514709472656, 136.54684448242188],\n",
       "   [365.9571533203125, 106.28620910644531],\n",
       "   [314.1651916503906, 107.73004150390625],\n",
       "   [394.1122741699219, 110.24728393554688],\n",
       "   [270.4834289550781, 116.20600891113281],\n",
       "   [444.1324768066406, 268.1957092285156],\n",
       "   [233.62875366210938, 239.90481567382812],\n",
       "   [454.9420166015625, 455.4093322753906],\n",
       "   [158.45140075683594, 359.929443359375],\n",
       "   [368.27545166015625, 480.0],\n",
       "   [89.56272888183594, 421.9233093261719],\n",
       "   [0.0, 0.0],\n",
       "   [0.0, 0.0],\n",
       "   [0.0, 0.0],\n",
       "   [0.0, 0.0],\n",
       "   [0.0, 0.0],\n",
       "   [0.0, 0.0]]}]"
      ]
     },
     "execution_count": 50,
     "metadata": {},
     "output_type": "execute_result"
    }
   ],
   "source": [
    "adress = load_json('./dataset/not_address.json')\n",
    "adress"
   ]
  },
  {
   "cell_type": "code",
   "execution_count": 51,
   "metadata": {},
   "outputs": [],
   "source": [
    "label = []\n",
    "keypoints = []\n",
    "for i in range(len(adress)):\n",
    "    label.append(adress[i]['label'])\n",
    "    keypoints.append(adress[i]['keypoints'])\n",
    "\n",
    "keypoints = np.array(keypoints)\n"
   ]
  },
  {
   "cell_type": "code",
   "execution_count": 52,
   "metadata": {},
   "outputs": [
    {
     "name": "stdout",
     "output_type": "stream",
     "text": [
      "7\n",
      "(7, 17, 2)\n"
     ]
    }
   ],
   "source": [
    "print(len(label))\n",
    "print(keypoints.shape)"
   ]
  },
  {
   "cell_type": "code",
   "execution_count": 53,
   "metadata": {},
   "outputs": [
    {
     "data": {
      "text/plain": [
       "(7, 17, 2)"
      ]
     },
     "execution_count": 53,
     "metadata": {},
     "output_type": "execute_result"
    }
   ],
   "source": [
    "normalized_keypoints = normalization(keypoints)\n",
    "normalized_keypoints.shape"
   ]
  },
  {
   "cell_type": "code",
   "execution_count": 54,
   "metadata": {},
   "outputs": [
    {
     "data": {
      "text/plain": [
       "(17, 2)"
      ]
     },
     "execution_count": 54,
     "metadata": {},
     "output_type": "execute_result"
    }
   ],
   "source": [
    "sample = normalized_keypoints[0]\n",
    "sample.shape"
   ]
  },
  {
   "cell_type": "code",
   "execution_count": 56,
   "metadata": {},
   "outputs": [
    {
     "data": {
      "image/png": "[encoded data removed]",
      "text/plain": [
       "<Figure size 640x480 with 1 Axes>"
      ]
     },
     "metadata": {},
     "output_type": "display_data"
    }
   ],
   "source": [
    "\n",
    "# 데이터 이상한건 그냥 앉은데이터 넣어서 그런듯 \n",
    "ax = plt.subplot()\n",
    "body_drawing(ax, sample)\n"
   ]
  },
  {
   "cell_type": "code",
   "execution_count": null,
   "metadata": {},
   "outputs": [],
   "source": []
  }
 ],
 "metadata": {
  "kernelspec": {
   "display_name": "jh",
   "language": "python",
   "name": "python3"
  },
  "language_info": {
   "codemirror_mode": {
    "name": "ipython",
    "version": 3
   },
   "file_extension": ".py",
   "mimetype": "text/x-python",
   "name": "python",
   "nbconvert_exporter": "python",
   "pygments_lexer": "ipython3",
   "version": "3.8.13"
  }
 },
 "nbformat": 4,
 "nbformat_minor": 2
}
